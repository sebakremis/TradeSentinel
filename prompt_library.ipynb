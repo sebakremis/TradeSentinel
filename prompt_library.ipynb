{
 "cells": [
  {
   "cell_type": "markdown",
   "id": "066c0a37-0d19-4dbc-a6ca-2a8dc96996cf",
   "metadata": {},
   "source": [
    "# Common issue when displaying README.md outputs"
   ]
  },
  {
   "cell_type": "raw",
   "id": "ae779bd2-75ea-45cf-933d-f332de780225",
   "metadata": {},
   "source": [
    "### Fix text file when 'Project Structure' splits the output in different cells\n",
    "\n",
    "Problem: \n",
    "The 'Project Structure' output is split into multiple code windows, reducing readability and usability.\n",
    "\n",
    "Solution:\n",
    "Present the project structure as a single formatted block (e.g., fenced code block or indented text) so it appears unified and copy‑friendly."
   ]
  },
  {
   "cell_type": "markdown",
   "id": "67293474-6eb3-41d8-8fd1-e2f90fc2c5cd",
   "metadata": {},
   "source": [
    "# Proposing a patch"
   ]
  },
  {
   "cell_type": "raw",
   "id": "c401cccf-9d96-48de-b660-6e0c2c9d77c9",
   "metadata": {},
   "source": [
    "## Propose a patch in Code Block\n",
    "\n",
    "as my Project Development Assistant:\n",
    "1) Inspect the code block in dashboard.py titled 'Interactive PnL Table with CSV Export'.\n",
    "2) Diagnose the bug: Dates are missing and replaced by numeric indices.\n",
    "\n",
    "Task: Suggest a patch for the code between '# --- Interactive PnL Table with CSV Export ---' and '# Credits' so that dates are displayed correctly."
   ]
  },
  {
   "cell_type": "raw",
   "id": "70f354f0-edbf-4596-9baf-4f4d56a36ace",
   "metadata": {},
   "source": [
    "### Ensuring Fix Placement within code\n",
    "\n",
    "True or False: \n",
    "(The fix proposed for dashboard.py will replace the code block that starts in '# --- Interactive PnL Table with CSV Export ---' and ends before '# Credits'.):\n",
    "    Analyze this condition 'literally'."
   ]
  },
  {
   "cell_type": "raw",
   "id": "dc5d28ab-f007-4b32-afdc-caab128268dc",
   "metadata": {},
   "source": [
    "### If Ensuring Fix Placement is not true\n",
    "\n",
    "Please Reframe the fix as a drop-in replacement block"
   ]
  },
  {
   "cell_type": "markdown",
   "id": "749e0ee2-9847-4939-8c40-01100499481a",
   "metadata": {},
   "source": [
    "# Propose the implementation of a new feature"
   ]
  },
  {
   "cell_type": "raw",
   "id": "70e60b34-6413-4e6b-acad-f1320cad0918",
   "metadata": {},
   "source": [
    "as my Project Development Assistant:\n",
    "1) Locate the 'Portfolio PnL Over Time' block in dashboard.py.\n",
    "\n",
    "2) Analyze the integration of a new Pie Chart.\n",
    "\n",
    "Requirements:\n",
    "- Ensure percentage values are visible on each chart segment.\n",
    "- Position the Pie Chart between 'Portfolio PnL Over Time' and 'Advanced Metrics'.\n",
    "\n",
    "Goal:\n",
    "Propose the implementation of a Pie Chart named 'Portfolio allocation by sector' to be added in dashboard.py"
   ]
  },
  {
   "cell_type": "markdown",
   "id": "1724f3c0-b718-4782-af6d-af04c1fe433d",
   "metadata": {},
   "source": [
    "# Prompt optimization"
   ]
  },
  {
   "cell_type": "raw",
   "id": "2057595d-3188-44e2-a657-468244ff2217",
   "metadata": {},
   "source": [
    "as my Project Development Assistant:\n",
    "You are to apply the Playoff Method to determine an optimal Prompt.\n",
    "\n",
    "Instructions:\n",
    "1) Generate 7 distinct, high-quality candidate Prompts (The Candidates), that will compete with the following original Prompt (The Original):\n",
    "    (\n",
    "  \n",
    "    )\n",
    "\n",
    "Requirement: The Candidates must respect the same structure as The Original.\n",
    "\n",
    "\n",
    "2) Pair the 8 candidates (The Candidates + The Original) into matchups like a Tournament Bracket.\n",
    "\n",
    "3) For each matchup:\n",
    "   - Compare the two candidates directly.\n",
    "   - Evaluate them against defined criteria: ** effectiveness to achieve its goal, being idiomatically correct, lack of ambiguity **\n",
    "   - Select the winner.\n",
    "4. Continue the playoff rounds until only one final winner remains.\n",
    "5. Present the final winning solution along with:\n",
    "   - A **compact** summary of the evaluation process.\n",
    "   - Key reasons for its selection over the others.\n",
    "\n",
    "Output Format:\n",
    "- Initial Candidate List = YES\n",
    "- Round-by-Round Matchups with Winners and Justifications = NO\n",
    "- Final Winning Solution with Summary Rationale = YES\n",
    "\n"
   ]
  }
 ],
 "metadata": {
  "kernelspec": {
   "display_name": "Python 3 (ipykernel)",
   "language": "python",
   "name": "python3"
  },
  "language_info": {
   "codemirror_mode": {
    "name": "ipython",
    "version": 3
   },
   "file_extension": ".py",
   "mimetype": "text/x-python",
   "name": "python",
   "nbconvert_exporter": "python",
   "pygments_lexer": "ipython3",
   "version": "3.13.5"
  }
 },
 "nbformat": 4,
 "nbformat_minor": 5
}
